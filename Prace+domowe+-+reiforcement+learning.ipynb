{
 "cells": [
  {
   "cell_type": "markdown",
   "metadata": {},
   "source": [
    "# Praca Domowa - Modelowanie Wieloagentowe "
   ]
  },
  {
   "cell_type": "markdown",
   "metadata": {},
   "source": [
    "Podane są 4 polecenia, w ramach obowiązkowej pracy domowej należy wybrać i wykonać dwa z nich. Pozostałe można traktować jako dodatkowe zadania."
   ]
  },
  {
   "cell_type": "markdown",
   "metadata": {},
   "source": [
    "## Zadanie 1\n",
    "\n",
    "W zaprezentowanym na ćwiczeniach środowisku <tt>Frozen Lake</tt> zaimplementuj algorytm Monte Carlo Off Policy Learning.\n",
    "\n",
    "## Zadanie 2\n",
    "\n",
    "1. Zmodyfikuj prezentowane na zajęciach kody do algorytmów $SARSA$ i $Q-learning$ tak aby paramert eksploracji $\\epsilon$ malał liniowo z czasem.\n",
    "2. W tak zmodyfikowanym przykładzie postataraj się tak dobrać parametry (stopa uczenia $\\alpha$, długość procesu eksploracji (<i>wypalania</i>)) aby algorytm $SARSA$ zbiegł do rozwiązania optymalnego.\n",
    "\n",
    "## Zadanie 3\n",
    "\n",
    "W środowisku <tt>Frozen Lake</tt> zaimplementuj algorytm $SARSA(\\lambda)$ ze śladami wybieralności (<i>eligibility  traces</i>). Porównaj jego efektywność z  bazowym algorytmem $SARSA(0)$ dla dla map o rozmiarze $n \\in [10,100,200,\\dots,1000]$.\n",
    "\n",
    "## Zadanie 4\n",
    "\n",
    "W prezentowanym na zajęciach przykładzie działania algorytmu $DynaQ$:\n",
    "\n",
    "1. Zmodyfikuj estymator modelu tak, aby uwzględniał stochastyczność otoczenia. \n",
    "2. Zaimplementuj algorytm $DynaQ+$. Porównaj oba algorytmy dla stochastycznej wersji środowiska <tt>Frozen Lake</tt>.\n",
    "\n",
    "## Zadanie 5\n",
    "\n",
    "Zmodyfikuj prezentowane rozwiązanie problemu <tt>Mountain Car</tt> tak aby otrzymywana przez agenta przeciętna nagroda na koniec epizodu było możliwie jak najwyższa. Przyjmij, że uczenie trwa przez 10 000 epizodów.\n",
    "\n",
    "<b>Uwaga: Nie modyfikuj nagród otrzymywanych przez agenta!</b>"
   ]
  }
 ],
 "metadata": {
  "kernelspec": {
   "display_name": "Julia 1.0.0",
   "language": "julia",
   "name": "julia-1.0"
  },
  "language_info": {
   "file_extension": ".jl",
   "mimetype": "application/julia",
   "name": "julia",
   "version": "1.0.0"
  }
 },
 "nbformat": 4,
 "nbformat_minor": 2
}
